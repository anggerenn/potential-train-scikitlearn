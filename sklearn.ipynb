{
 "cells": [
  {
   "cell_type": "markdown",
   "metadata": {},
   "source": [
    "# Data Class"
   ]
  },
  {
   "cell_type": "code",
   "execution_count": 64,
   "metadata": {},
   "outputs": [],
   "source": [
    "## To be consistent with sentiment use Enums\n",
    "class Sentiment:\n",
    "    bad = \"MAD BAD\"\n",
    "    neutral = \"MEH\"\n",
    "    good = \"RAD CHAD\"\n",
    "\n",
    "## Make it neat by using class\n",
    "class Review:\n",
    "    def __init__(self, text, star):\n",
    "        self.text = text #reviews['reviewText'][0]\n",
    "        self.star = star #reviews['overall'][1]\n",
    "        self.sentiment = self.get_sentiment() # create new object to for star\n",
    "        \n",
    "    def get_sentiment(self):\n",
    "        if self.star < 3:\n",
    "            return Sentiment.bad\n",
    "        elif self.star == 3:\n",
    "            return Sentiment.neutral\n",
    "        else:\n",
    "            return Sentiment.good"
   ]
  },
  {
   "cell_type": "markdown",
   "metadata": {},
   "source": [
    "# Load Data"
   ]
  },
  {
   "cell_type": "code",
   "execution_count": 62,
   "metadata": {},
   "outputs": [
    {
     "name": "stdout",
     "output_type": "stream",
     "text": [
      "I thoroughly enjoyed this book. I've read the 1st 3 and will be buying the 4th shortly.I thoroughly enjoy the characters and setting that Mr. Clines has created. The blending of classic superhero tropes with zombie survival is a great blend, far better than I would have expected. I further appreciate the detail that Mr. Clines goes into, particularly with regard to Captain Freedom's military background. It adds a wonderful richness to the world.The biggest compliment that I can give the book (as well as the series) is that I was willing to pay more than $.99 or $1.99 for it. With so many books available for cheap on Amazon, that these caught my interest enough to warrant a $7.99 investment says something.I definitely recommend.\n",
      "5.0\n",
      "RAD CHAD\n"
     ]
    }
   ],
   "source": [
    "import json\n",
    "\n",
    "file_name = './data/books_small.json'\n",
    "\n",
    "reviews = []\n",
    "with open(file_name) as f:\n",
    "    for line in f:\n",
    "        review = json.loads(line)\n",
    "#       reviews.append(Review(review['reviewText'], review['overall']))             \n",
    "# Use index to get specific review or rating\n",
    "# reviews[-5][1] # Return 5.0\n",
    "\n",
    "## rather than append to tuple we can append to class object instead\n",
    "        reviews.append(Review(review['reviewText'], review['overall']))\n",
    "\n",
    "print(reviews[-5].text)\n",
    "print(reviews[-5].star)\n",
    "print(reviews[-5].sentiment)"
   ]
  },
  {
   "cell_type": "markdown",
   "metadata": {},
   "source": [
    "# Prep Data"
   ]
  },
  {
   "cell_type": "code",
   "execution_count": 65,
   "metadata": {},
   "outputs": [
    {
     "data": {
      "text/plain": [
       "1000"
      ]
     },
     "execution_count": 65,
     "metadata": {},
     "output_type": "execute_result"
    }
   ],
   "source": [
    "# split train and dataset"
   ]
  },
  {
   "cell_type": "code",
   "execution_count": null,
   "metadata": {},
   "outputs": [],
   "source": []
  },
  {
   "cell_type": "code",
   "execution_count": null,
   "metadata": {},
   "outputs": [],
   "source": []
  },
  {
   "cell_type": "code",
   "execution_count": null,
   "metadata": {},
   "outputs": [],
   "source": []
  },
  {
   "cell_type": "code",
   "execution_count": null,
   "metadata": {},
   "outputs": [],
   "source": []
  },
  {
   "cell_type": "code",
   "execution_count": null,
   "metadata": {},
   "outputs": [],
   "source": []
  },
  {
   "cell_type": "code",
   "execution_count": null,
   "metadata": {},
   "outputs": [],
   "source": []
  },
  {
   "cell_type": "code",
   "execution_count": null,
   "metadata": {},
   "outputs": [],
   "source": []
  },
  {
   "cell_type": "code",
   "execution_count": null,
   "metadata": {},
   "outputs": [],
   "source": []
  }
 ],
 "metadata": {
  "kernelspec": {
   "display_name": "Python 3",
   "language": "python",
   "name": "python3"
  },
  "language_info": {
   "codemirror_mode": {
    "name": "ipython",
    "version": 3
   },
   "file_extension": ".py",
   "mimetype": "text/x-python",
   "name": "python",
   "nbconvert_exporter": "python",
   "pygments_lexer": "ipython3",
   "version": "3.8.3"
  }
 },
 "nbformat": 4,
 "nbformat_minor": 4
}
